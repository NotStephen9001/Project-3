{
 "cells": [
  {
   "cell_type": "code",
   "execution_count": 1,
   "metadata": {},
   "outputs": [],
   "source": [
    "#Import needed modules\n",
    "import os\n",
    "import sys\n",
    "\n",
    "import ArticleImportUtils as AIU\n",
    "import DisplayArticlesUtilities as DAU\n",
    "import ArticleTranslationUtility as ATU\n",
    "\n",
    "\n",
    "from transformers import AutoTokenizer, TFAutoModelForSeq2SeqLM, MBartForConditionalGeneration, MBart50TokenizerFast\n",
    "from dotenv import load_dotenv\n",
    "from newsapi import NewsApiClient\n",
    "\n"
   ]
  },
  {
   "cell_type": "code",
   "execution_count": 2,
   "metadata": {},
   "outputs": [],
   "source": [
    "#Create variables to hold country and language codes\n",
    "countryCode = \"\"\n",
    "languageCode = \"\"\n",
    "\n",
    "#Create a list of the available country codes that include ae,ar,at,au,be,bg,br,ca,ch,cn,co,cu,cz,de,eg,fr,gb,gr,hk,hu,id,ie,il,in,it,jp,kr,lt,lv,ma,mx,my,ng,nl,no,nz,ph,pl,pt,ro,rs,ru,sa,se,sg,si,sk,th,tr,tw,ua,us,ve,za\n",
    "validCountryCodes = [\"ae\",\"ar\",\"at\",\"au\",\"be\",\"bg\",\"br\",\"ca\",\"ch\",\"cn\",\"co\",\"cu\",\"cz\",\"de\",\"eg\",\"fr\",\"gb\",\"gr\",\"hk\",\"hu\",\"id\",\"ie\",\"il\",\"in\",\"it\",\"jp\",\"kr\",\"lt\",\"lv\",\"ma\",\"mx\",\"my\",\"ng\",\"nl\",\"no\",\"nz\",\"ph\",\"pl\",\"pt\",\"ro\",\"rs\",\"ru\",\"sa\",\"se\",\"sg\",\"si\",\"sk\",\"th\",\"tr\",\"tw\",\"ua\",\"us\",\"ve\",\"za\",\"None\"]\n",
    "\n",
    "#Create a list of the available language codes that include ar,de,en,es,fr,he,it,nl,no,pt,ru,se,ud,zh\n",
    "validLanguageCodes = [\"ar\",\"de\",\"en\",\"es\",\"fr\",\"he\",\"it\",\"nl\",\"no\",\"pt\",\"ru\",\"se\",\"ud\",\"zh\",\"None\"]\n"
   ]
  },
  {
   "cell_type": "code",
   "execution_count": 3,
   "metadata": {},
   "outputs": [],
   "source": [
    "#Get the number of articles available for each country and language\n",
    "#numberOfArticles = {}\n",
    "\n",
    "#numberOfArticles = AIU.getNumberOfArticles(validCountryCodes, validLanguageCodes)\n",
    "\n",
    "#print(\"Number of articles available for each country and language: \")\n",
    "#print(numberOfArticles)\n"
   ]
  },
  {
   "cell_type": "code",
   "execution_count": 4,
   "metadata": {},
   "outputs": [],
   "source": [
    "#Ask the user to input the country code if not valid ask again\n",
    "while countryCode not in validCountryCodes:\n",
    "    countryCode = input(\"Please enter the country code you would like to search for articles in: \")\n",
    "    if countryCode != \"None\":\n",
    "        countryCode = countryCode.lower()\n",
    "\n",
    "#Ask the user to input the language code if not valid ask again\n",
    "while languageCode not in validLanguageCodes:\n",
    "    languageCode = input(\"Please enter the language code you would like to search for articles in: \")\n",
    "    if languageCode != \"None\":\n",
    "        languageCode = languageCode.lower()\n",
    "\n",
    "\n",
    "#Enter the search term you would like to search for\n",
    "searchTerm = input(\"Please enter the search term you would like to search for: \").lower()"
   ]
  },
  {
   "cell_type": "code",
   "execution_count": 8,
   "metadata": {},
   "outputs": [
    {
     "name": "stdout",
     "output_type": "stream",
     "text": [
      "Country Code: de\n",
      "Language Code: de\n",
      "Search Term: ukraine\n"
     ]
    },
    {
     "name": "stderr",
     "output_type": "stream",
     "text": [
      "No model was supplied, defaulted to distilbert/distilbert-base-uncased-finetuned-sst-2-english and revision af0f99b (https://huggingface.co/distilbert/distilbert-base-uncased-finetuned-sst-2-english).\n",
      "Using a pipeline without specifying a model name and revision in production is not recommended.\n"
     ]
    },
    {
     "name": "stdout",
     "output_type": "stream",
     "text": [
      "{'status': 'ok', 'totalResults': 1, 'articles': [{'source': {'id': 'google-news', 'name': 'Google News'}, 'author': 'WELT', 'title': 'Washington: Repräsentantenhaus soll separat über Ukraine-Hilfspaket abstimmen - WELT', 'description': None, 'url': 'https://news.google.com/rss/articles/CBMiiAFodHRwczovL3d3dy53ZWx0LmRlL3BvbGl0aWsvYXVzbGFuZC9hcnRpY2xlMjUxMDUwODg4L1dhc2hpbmd0b24tUmVwcmFlc2VudGFudGVuaGF1cy1zb2xsLXNlcGFyYXQtdWViZXItVWtyYWluZS1IaWxmc3Bha2V0LWFic3RpbW1lbi5odG1s0gEA?oc=5', 'urlToImage': None, 'publishedAt': '2024-04-16T14:19:54Z', 'content': None}]}\n",
      "\n",
      "\n",
      "\n",
      "\n",
      "\n",
      "Article List:\n",
      "\n",
      "1. Title: Washington: Repräsentantenhaus soll separat über Ukraine-Hilfspaket abstimmen - WELT\n",
      "    Author: WELT\n",
      "    Description: None\n",
      "    Content: None\n",
      "    URL: https://news.google.com/rss/articles/CBMiiAFodHRwczovL3d3dy53ZWx0LmRlL3BvbGl0aWsvYXVzbGFuZC9hcnRpY2xlMjUxMDUwODg4L1dhc2hpbmd0b24tUmVwcmFlc2VudGFudGVuaGF1cy1zb2xsLXNlcGFyYXQtdWViZXItVWtyYWluZS1IaWxmc3Bha2V0LWFic3RpbW1lbi5odG1s0gEA?oc=5\n",
      "    Source: Google News\n",
      "    Published Date: 2024-04-16T14:19:54Z\n",
      "    Image: None\n",
      "    Sentiment: {'label': 'NEGATIVE', 'score': 0.9942248463630676}\n",
      "    Keywords: ['washington', ':', 'rep', '##rase', '##nta', '##nte', '##nh', '##aus', 'sol', '##l', 'sep', '##arat', 'uber', 'ukraine', '-', 'hi', '##lf', '##sp', '##ake', '##t', 'abs', '##ti', '##mme', '##n', '-', 'we', '##lt']\n",
      "\n",
      "\n"
     ]
    }
   ],
   "source": [
    "print(\"Country Code: \" + countryCode)\n",
    "print(\"Language Code: \" + languageCode)\n",
    "print(\"Search Term: \" + searchTerm)\n",
    "\n",
    "\n",
    "\n",
    "#Get the top headlines for the country and language code and search term\n",
    "if countryCode == \"None\" and languageCode == \"None\":\n",
    "        top_headlines = AIU.get_top_headlines(query = searchTerm)\n",
    "elif countryCode == \"None\":\n",
    "        top_headlines = AIU.get_top_headlines(query = searchTerm, language = languageCode)\n",
    "elif languageCode == \"None\":\n",
    "        top_headlines = AIU.get_top_headlines(query = searchTerm, country = countryCode)\n",
    "else:\n",
    "        top_headlines = AIU.get_top_headlines(query = searchTerm, country = countryCode, language = languageCode)\n",
    "\n",
    "print(top_headlines)\n",
    "\n",
    "articles = DAU.CreateArticleList(top_headlines)\n",
    "\n",
    "\n",
    "#print(articles)\n",
    "\n",
    "\n",
    "#Pass Article Dictionary to DisplayArticlesUtils\n",
    "print(\"\\n\\n\\n\\n\\n\" + \"Article List:\" + \"\\n\")\n",
    "DAU.DisplayArticleInfo(articles)"
   ]
  },
  {
   "cell_type": "code",
   "execution_count": 6,
   "metadata": {},
   "outputs": [
    {
     "name": "stdout",
     "output_type": "stream",
     "text": [
      "Translating Article...\n",
      "Translating article to English...\n",
      "Translated Article:\n",
      "\n",
      "\n",
      "Translated Title: Washington: House of Representatives to vote separately on Ukraine bailout package - WORLD\n",
      "\n",
      "  Author: WELT\n",
      "\n",
      "  Description: None\n",
      "\n",
      "  Content: \n",
      "\n",
      "  URL: https://news.google.com/rss/articles/CBMiiAFodHRwczovL3d3dy53ZWx0LmRlL3BvbGl0aWsvYXVzbGFuZC9hcnRpY2xlMjUxMDUwODg4L1dhc2hpbmd0b24tUmVwcmFlc2VudGFudGVuaGF1cy1zb2xsLXNlcGFyYXQtdWViZXItVWtyYWluZS1IaWxmc3Bha2V0LWFic3RpbW1lbi5odG1s0gEA?oc=5\n",
      "\n",
      "  Source: Google News\n",
      "\n",
      "  Published Date: 2024-04-16T14:19:54Z\n",
      "\n",
      "  Image: None\n",
      "\n",
      "  Sentiment: {'label': 'NEGATIVE', 'score': 0.9942248463630676}\n",
      "\n",
      "  Keywords: ['washington', ':', 'rep', '##rase', '##nta', '##nte', '##nh', '##aus', 'sol', '##l', 'sep', '##arat', 'uber', 'ukraine', '-', 'hi', '##lf', '##sp', '##ake', '##t', 'abs', '##ti', '##mme', '##n', '-', 'we', '##lt']\n",
      "\n",
      "\n",
      "\n"
     ]
    }
   ],
   "source": [
    "translated_article = \"\"\n",
    "\n",
    "#If no articles were returned, exit the program\n",
    "if len(articles) == 0:\n",
    "    print(\"No articles were returned for the selected country (\" + countryCode + \") and language (\" + languageCode + \").\" )\n",
    "else:\n",
    "    #Select the article you would like to translate\n",
    "    articleNumber = ATU.SelectArticleToTranslate(articles)\n",
    "    \n",
    "    translated_article = ATU.TranslateArticle(articles, languageCode, articleNumber)\n",
    "\n",
    "    DAU.DisplayTranslatedArticle(translated_article)\n",
    "    #print(translated_article)"
   ]
  }
 ],
 "metadata": {
  "kernelspec": {
   "display_name": "dev",
   "language": "python",
   "name": "python3"
  },
  "language_info": {
   "codemirror_mode": {
    "name": "ipython",
    "version": 3
   },
   "file_extension": ".py",
   "mimetype": "text/x-python",
   "name": "python",
   "nbconvert_exporter": "python",
   "pygments_lexer": "ipython3",
   "version": "3.10.13"
  }
 },
 "nbformat": 4,
 "nbformat_minor": 2
}

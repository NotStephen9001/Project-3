{
 "cells": [
  {
   "cell_type": "code",
   "execution_count": 6,
   "metadata": {},
   "outputs": [],
   "source": [
    "#Import needed modules\n",
    "import os\n",
    "import sys\n",
    "\n",
    "import ArticleImportUtils as AIU\n",
    "import DisplayArticlesUtilities as DAU\n",
    "\n",
    "\n",
    "from transformers import AutoTokenizer, TFAutoModelForSeq2SeqLM, MBartForConditionalGeneration, MBart50TokenizerFast\n",
    "from dotenv import load_dotenv\n",
    "from newsapi import NewsApiClient\n",
    "\n"
   ]
  },
  {
   "cell_type": "code",
   "execution_count": 7,
   "metadata": {},
   "outputs": [],
   "source": [
    "#Create variables to hold country and language codes\n",
    "countryCode = \"\"\n",
    "languageCode = \"\"\n",
    "\n",
    "#Create a list of the available country codes that include ae,ar,at,au,be,bg,br,ca,ch,cn,co,cu,cz,de,eg,fr,gb,gr,hk,hu,id,ie,il,in,it,jp,kr,lt,lv,ma,mx,my,ng,nl,no,nz,ph,pl,pt,ro,rs,ru,sa,se,sg,si,sk,th,tr,tw,ua,us,ve,za\n",
    "validCountryCodes = [\"ae\",\"ar\",\"at\",\"au\",\"be\",\"bg\",\"br\",\"ca\",\"ch\",\"cn\",\"co\",\"cu\",\"cz\",\"de\",\"eg\",\"fr\",\"gb\",\"gr\",\"hk\",\"hu\",\"id\",\"ie\",\"il\",\"in\",\"it\",\"jp\",\"kr\",\"lt\",\"lv\",\"ma\",\"mx\",\"my\",\"ng\",\"nl\",\"no\",\"nz\",\"ph\",\"pl\",\"pt\",\"ro\",\"rs\",\"ru\",\"sa\",\"se\",\"sg\",\"si\",\"sk\",\"th\",\"tr\",\"tw\",\"ua\",\"us\",\"ve\",\"za\",\"None\"]\n",
    "\n",
    "#Create a list of the available language codes that include ar,de,en,es,fr,he,it,nl,no,pt,ru,se,ud,zh\n",
    "validLanguageCodes = [\"ar\",\"de\",\"en\",\"es\",\"fr\",\"he\",\"it\",\"nl\",\"no\",\"pt\",\"ru\",\"se\",\"ud\",\"zh\",\"None\"]\n"
   ]
  },
  {
   "cell_type": "code",
   "execution_count": 8,
   "metadata": {},
   "outputs": [],
   "source": [
    "#Get the number of articles available for each country and language\n",
    "#numberOfArticles = {}\n",
    "\n",
    "#numberOfArticles = AIU.getNumberOfArticles(validCountryCodes, validLanguageCodes)\n",
    "\n",
    "#print(\"Number of articles available for each country and language: \")\n",
    "#print(numberOfArticles)\n"
   ]
  },
  {
   "cell_type": "code",
   "execution_count": 9,
   "metadata": {},
   "outputs": [],
   "source": [
    "#Ask the user to input the country code if not valid ask again\n",
    "while countryCode not in validCountryCodes:\n",
    "    countryCode = input(\"Please enter the country code you would like to search for articles in: \")\n",
    "    if countryCode != \"None\":\n",
    "        countryCode = countryCode.lower()\n",
    "\n",
    "#Ask the user to input the language code if not valid ask again\n",
    "while languageCode not in validLanguageCodes:\n",
    "    languageCode = input(\"Please enter the language code you would like to search for articles in: \")\n",
    "    if languageCode != \"None\":\n",
    "        languageCode = languageCode.lower()\n",
    "\n",
    "\n",
    "#Enter the search term you would like to search for\n",
    "searchTerm = input(\"Please enter the search term you would like to search for: \")"
   ]
  },
  {
   "cell_type": "code",
   "execution_count": 10,
   "metadata": {},
   "outputs": [
    {
     "name": "stdout",
     "output_type": "stream",
     "text": [
      "Country Code: de\n",
      "Language Code: de\n",
      "Search Term: bitcoin\n"
     ]
    },
    {
     "name": "stderr",
     "output_type": "stream",
     "text": [
      "No model was supplied, defaulted to distilbert/distilbert-base-uncased-finetuned-sst-2-english and revision af0f99b (https://huggingface.co/distilbert/distilbert-base-uncased-finetuned-sst-2-english).\n",
      "Using a pipeline without specifying a model name and revision in production is not recommended.\n"
     ]
    },
    {
     "name": "stdout",
     "output_type": "stream",
     "text": [
      "[{'title': 'Krypto-Blutbad: Alle Hintergründe und wann der Altcoin-Markt wieder anziehen dürfte - BTC-ECHO | Bitcoin & Blockchain seit 2014', 'author': 'BTC-ECHO | Bitcoin & Blockchain seit 2014', 'description': None, 'content': None, 'url': 'https://news.google.com/rss/articles/CBMieWh0dHBzOi8vd3d3LmJ0Yy1lY2hvLmRlL25ld3Mva3J5cHRvLWJsdXRiYWQtYWxsZS1oaW50ZXJncnVlbmRlLXVuZC13YW5uLWRlci1hbHRjb2luLW1hcmt0LXdpZWRlci1hbnppZWhlbi1kdWVyZnRlLTE4MjQxMS_SAQA?oc=5', 'source': 'Google News', 'published_date': '2024-04-14T08:08:35Z', 'sentiment': {'label': 'NEGATIVE', 'score': 0.9863965511322021}, 'keywords': ['k', '##ry', '##pt', '##o', '-', 'blu', '##t', '##bad', ':', 'all', '##e', 'hint', '##er', '##gr', '##und', '##e', 'und', 'wan', '##n', 'der', 'alt', '##co', '##in', '-', 'mark', '##t', 'wi', '##ede', '##r', 'an', '##zie', '##hen', 'du', '##rf', '##te', '-', 'bt', '##c', '-', 'echo', '|', 'bit', '##co', '##in', '&', 'block', '##chai', '##n', 'se', '##it', '2014'], 'image': None}]\n",
      "[{'title': 'Krypto-Blutbad: Alle Hintergründe und wann der Altcoin-Markt wieder anziehen dürfte - BTC-ECHO | Bitcoin & Blockchain seit 2014', 'author': 'BTC-ECHO | Bitcoin & Blockchain seit 2014', 'description': None, 'content': None, 'url': 'https://news.google.com/rss/articles/CBMieWh0dHBzOi8vd3d3LmJ0Yy1lY2hvLmRlL25ld3Mva3J5cHRvLWJsdXRiYWQtYWxsZS1oaW50ZXJncnVlbmRlLXVuZC13YW5uLWRlci1hbHRjb2luLW1hcmt0LXdpZWRlci1hbnppZWhlbi1kdWVyZnRlLTE4MjQxMS_SAQA?oc=5', 'source': 'Google News', 'published_date': '2024-04-14T08:08:35Z', 'sentiment': {'label': 'NEGATIVE', 'score': 0.9863965511322021}, 'keywords': ['k', '##ry', '##pt', '##o', '-', 'blu', '##t', '##bad', ':', 'all', '##e', 'hint', '##er', '##gr', '##und', '##e', 'und', 'wan', '##n', 'der', 'alt', '##co', '##in', '-', 'mark', '##t', 'wi', '##ede', '##r', 'an', '##zie', '##hen', 'du', '##rf', '##te', '-', 'bt', '##c', '-', 'echo', '|', 'bit', '##co', '##in', '&', 'block', '##chai', '##n', 'se', '##it', '2014'], 'image': None}]\n",
      "1. Title: Krypto-Blutbad: Alle Hintergründe und wann der Altcoin-Markt wieder anziehen dürfte - BTC-ECHO | Bitcoin & Blockchain seit 2014\n",
      "    Author: BTC-ECHO | Bitcoin & Blockchain seit 2014\n",
      "    Description: None\n",
      "    Content: None\n",
      "    URL: https://news.google.com/rss/articles/CBMieWh0dHBzOi8vd3d3LmJ0Yy1lY2hvLmRlL25ld3Mva3J5cHRvLWJsdXRiYWQtYWxsZS1oaW50ZXJncnVlbmRlLXVuZC13YW5uLWRlci1hbHRjb2luLW1hcmt0LXdpZWRlci1hbnppZWhlbi1kdWVyZnRlLTE4MjQxMS_SAQA?oc=5\n",
      "    Source: Google News\n",
      "    Published Date: 2024-04-14T08:08:35Z\n",
      "    Image: None\n",
      "    Sentiment: {'label': 'NEGATIVE', 'score': 0.9863965511322021}\n",
      "    Keywords: ['k', '##ry', '##pt', '##o', '-', 'blu', '##t', '##bad', ':', 'all', '##e', 'hint', '##er', '##gr', '##und', '##e', 'und', 'wan', '##n', 'der', 'alt', '##co', '##in', '-', 'mark', '##t', 'wi', '##ede', '##r', 'an', '##zie', '##hen', 'du', '##rf', '##te', '-', 'bt', '##c', '-', 'echo', '|', 'bit', '##co', '##in', '&', 'block', '##chai', '##n', 'se', '##it', '2014']\n",
      "\n",
      "\n"
     ]
    }
   ],
   "source": [
    "print(\"Country Code: \" + countryCode)\n",
    "print(\"Language Code: \" + languageCode)\n",
    "print(\"Search Term: \" + searchTerm)\n",
    "\n",
    "\n",
    "\n",
    "#If the user chooses to search for top headlines\n",
    "#Get the top headlines for the country and language code\n",
    "\n",
    "if countryCode == \"None\" and languageCode == \"None\":\n",
    "        top_headlines = AIU.get_top_headlines(query = searchTerm)\n",
    "elif countryCode == \"None\":\n",
    "        top_headlines = AIU.get_top_headlines(query = searchTerm, language = languageCode)\n",
    "elif languageCode == \"None\":\n",
    "        top_headlines = AIU.get_top_headlines(query = searchTerm, country = countryCode)\n",
    "else:\n",
    "        top_headlines = AIU.get_top_headlines(query = searchTerm, country = countryCode, language = languageCode)\n",
    "\n",
    "articles = DAU.CreateArticleList(top_headlines)\n",
    "\n",
    "\n",
    "print(articles)\n",
    "\n",
    "\n",
    "\n",
    "\n",
    "\n",
    "print(articles)\n",
    "\n",
    "#Pass Article Dictionary to DisplayArticlesUtils\n",
    "DAU.DisplayArticleInfo(articles)"
   ]
  },
  {
   "cell_type": "code",
   "execution_count": 11,
   "metadata": {},
   "outputs": [
    {
     "name": "stdout",
     "output_type": "stream",
     "text": [
      "Translating article to English...\n",
      "Translated Title: Crypto-Blutbad: All the Backgrounds and When the Altcoin Market Should Rejoice - BTC-ECHO | Bitcoin & Blockchain since 2014\n",
      "Original Title: Krypto-Blutbad: Alle Hintergründe und wann der Altcoin-Markt wieder anziehen dürfte - BTC-ECHO | Bitcoin & Blockchain seit 2014\n"
     ]
    }
   ],
   "source": [
    "#If no articles were returned, exit the program\n",
    "if len(articles) == 0:\n",
    "    print(\"No articles were returned for the selected country (\" + countryCode + \") and language (\" + languageCode + \").\")\n",
    "else: #Translate the article to English if it is not already in English\n",
    "    #Take the first article and translate it to English if it is not in English\n",
    "    article = articles[0]\n",
    "    model_name = \"facebook/mbart-large-50-many-to-many-mmt\"\n",
    "\n",
    "    tokenizer = MBart50TokenizerFast.from_pretrained(model_name)\n",
    "    tokenizer.src_lang = languageCode + \"_\" + languageCode.upper()\n",
    "\n",
    "    if languageCode != \"en\":\n",
    "        print(\"Translating article to English...\")\n",
    "\n",
    "        model = MBartForConditionalGeneration.from_pretrained(model_name)\n",
    "\n",
    "        # Translate the article title to English\n",
    "        input_text = article['title']\n",
    "        encoded_text = tokenizer(input_text, return_tensors=\"pt\")\n",
    "\n",
    "        output_ids = model.generate(**encoded_text, forced_bos_token_id=tokenizer.lang_code_to_id[\"en_XX\"])\n",
    "\n",
    "        # Retrieve the text from the special characters.\n",
    "        translated_title = tokenizer.decode(output_ids[0], skip_special_tokens=True)\n",
    "        \n",
    "        print(\"Translated Title: \" + translated_title)\n",
    "\n",
    "        print(\"Original Title: \" + article['title'])\n",
    "\n",
    "    else:\n",
    "        print(\"Article is already in English\")"
   ]
  }
 ],
 "metadata": {
  "kernelspec": {
   "display_name": "dev",
   "language": "python",
   "name": "python3"
  },
  "language_info": {
   "codemirror_mode": {
    "name": "ipython",
    "version": 3
   },
   "file_extension": ".py",
   "mimetype": "text/x-python",
   "name": "python",
   "nbconvert_exporter": "python",
   "pygments_lexer": "ipython3",
   "version": "3.10.13"
  }
 },
 "nbformat": 4,
 "nbformat_minor": 2
}

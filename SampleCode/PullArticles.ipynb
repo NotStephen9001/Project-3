{
 "cells": [
  {
   "cell_type": "code",
   "execution_count": 55,
   "metadata": {},
   "outputs": [],
   "source": [
    "#Import needed modules\n",
    "import os\n",
    "import sys\n",
    "\n",
    "import ArticleImportUtils as AIU\n",
    "import DisplayArticlesUtils as DAU\n",
    "\n",
    "from transformers import pipeline, AutoTokenizer\n",
    "from dotenv import load_dotenv\n",
    "from newsapi import NewsApiClient\n",
    "\n"
   ]
  },
  {
   "cell_type": "code",
   "execution_count": 54,
   "metadata": {},
   "outputs": [
    {
     "name": "stderr",
     "output_type": "stream",
     "text": [
      "No model was supplied, defaulted to distilbert/distilbert-base-uncased-finetuned-sst-2-english and revision af0f99b (https://huggingface.co/distilbert/distilbert-base-uncased-finetuned-sst-2-english).\n",
      "Using a pipeline without specifying a model name and revision in production is not recommended.\n"
     ]
    },
    {
     "name": "stdout",
     "output_type": "stream",
     "text": [
      "[{'title': 'Rashee Rice latest: Dallas police charge Chiefs WR in crash - WFAA.com', 'author': 'Rebecca Lopez', 'description': \"Rice has admitted to driving the Lamborghini involved in the crash. He'll now have a day to turn himself into police, sources told WFAA.\", 'content': 'DALLAS An arrest warrant has been issued for Kansas City Chiefs wide receiver Rashee Rice in connection to his involvement in a multi-vehicle crash on U.S. 75 in Dallas in late March, sources tell WF… [+4183 chars]', 'url': 'https://www.wfaa.com/article/news/crime/rashee-rice-dallas-texas-crash-charges-kansas-city-chiefs-nfl/287-55b4ae10-a0c3-4bc3-b82d-a826d4b80ddf', 'source': 'WFAA.com', 'published_date': '2024-04-10T21:48:00Z', 'sentiment': {'label': 'NEGATIVE', 'score': 0.9774302244186401}, 'keywords': ['rash', '##ee', 'rice', 'latest', ':', 'dallas', 'police', 'charge', 'chiefs', 'wr', 'in', 'crash', '-', 'w', '##fa', '##a', '.', 'com'], 'image': 'https://media.wfaa.com/assets/WFAA/images/8eb29f47-ebc4-4333-9543-7acbfdb4c339/8eb29f47-ebc4-4333-9543-7acbfdb4c339_1140x641.jpg'}, {'title': 'Virginia ex-assistant principal charged a year after 6-year-old shot his teacher - ABC News', 'author': 'Julia Reinstein', 'description': 'Ebony Parker is charged with felony child abuse for the school shooting.', 'content': 'The former assistant principal of Richneck Elementary School in Newport News, Virginia, where a 6-year-old shot his teacher in January 2023, has been indicted for child abuse, according to court docu… [+4068 chars]', 'url': 'https://abcnews.go.com/US/US/virginia-assistant-principal-charged-year-after-6-year/story?id=109084407', 'source': 'ABC News', 'published_date': '2024-04-10T21:38:41Z', 'sentiment': {'label': 'NEGATIVE', 'score': 0.9938712120056152}, 'keywords': ['virginia', 'ex', '-', 'assistant', 'principal', 'charged', 'a', 'year', 'after', '6', '-', 'year', '-', 'old', 'shot', 'his', 'teacher', '-', 'abc', 'news'], 'image': 'https://i.abcnewsfe.com/a/fc59eacd-9341-4a0a-b510-b6dfda17389b/richneck-elementary-2-gty-bb-240410_1712760715771_hpMain_16x9.jpg?w=1600'}, {'title': 'NFL expands uniform policy to allow third alternate helmet design - NFL.com', 'author': None, 'description': \"Two years after alternate helmets designs were approved to return to the NFL, the league has further expanded its uniform policy to allow for a third helmet to be added to the teams' uniform closets.\", 'content': \"Two years after alternate helmets designs were approved to return to the NFL, the league has expanded its uniform policy to allow for a third helmet to be added to teams' uniform closets, the league … [+1985 chars]\", 'url': 'https://www.nfl.com/news/nfl-expands-uniform-policy-to-allow-third-alternate-helmet-design', 'source': 'NFL News', 'published_date': '2024-04-10T21:32:00Z', 'sentiment': {'label': 'NEGATIVE', 'score': 0.8832167387008667}, 'keywords': ['nfl', 'expands', 'uniform', 'policy', 'to', 'allow', 'third', 'alternate', 'helmet', 'design', '-', 'nfl', '.', 'com'], 'image': 'https://static.www.nfl.com/image/upload/t_editorial_landscape_12_desktop/league/zsqiqcrcxwpuxfzk3fjm'}, {'title': '3 shot after gunfire erupts at Eid al-Fitr event in the Parkside section of Philadelphia marking end of Ramadan - WPVI-TV', 'author': None, 'description': 'Philadelphia Police Commissioner Kevin Bethel said two factions inside the park exchanged gunfire, and some 30 shots were fired.', 'content': 'PHILADELPHIA (WPVI) -- Three people were shot and five people are in custody after gunfire erupted in a Philadelphia park where an Eid al-Fitr event, to mark the end of the Muslim holy month of Ramad… [+3698 chars]', 'url': 'https://6abc.com/3-shot-after-celebration-to-mark-end-of-ramadan-in-the-parkside-section-philadelphia/14642782/', 'source': 'WPVI-TV', 'published_date': '2024-04-10T21:22:30Z', 'sentiment': {'label': 'NEGATIVE', 'score': 0.9870677590370178}, 'keywords': ['3', 'shot', 'after', 'gunfire', 'er', '##upt', '##s', 'at', 'e', '##id', 'al', '-', 'fit', '##r', 'event', 'in', 'the', 'parks', '##ide', 'section', 'of', 'philadelphia', 'marking', 'end', 'of', 'rama', '##dan', '-', 'w', '##p', '##vi', '-', 'tv'], 'image': 'https://cdn.abcotvs.com/dip/images/14643667_041024-wpvi-parkside-shooting-reporter-roundup-6pm-CC-vid.jpg?w=1600'}, {'title': 'Trump files more attempts to slow hush money case - CNN', 'author': 'Kara Scannell, Jeremy Herb', 'description': 'For the third time in three days, a New York appellate judge has denied an attempt by former President\\xa0Donald Trump to delay his hush money trial.', 'content': 'For the third time in three days, a New York appellate judge has denied an attempt by former President\\xa0Donald Trump to delay his hush money trial.\\r\\nTrump on Wednesday asked a New York appeals court f… [+5164 chars]', 'url': 'https://www.cnn.com/2024/04/10/politics/trump-lawyers-appeal-hush-money-case/index.html', 'source': 'CNN', 'published_date': '2024-04-10T21:17:00Z', 'sentiment': {'label': 'NEGATIVE', 'score': 0.9952463507652283}, 'keywords': ['trump', 'files', 'more', 'attempts', 'to', 'slow', 'hush', 'money', 'case', '-', 'cnn'], 'image': 'https://media.cnn.com/api/v1/images/stellar/prod/c-ap24096618188211.jpg?c=16x9&q=w_800,c_fill'}, {'title': \"Donald Trump says Arizona's 1864 abortion ban goes too far - BBC.com\", 'author': None, 'description': 'The presumptive Republican presidential nominee also said he would not sign a federal abortion ban.', 'content': None, 'url': 'https://www.bbc.com/news/world-us-canada-68783408', 'source': 'BBC News', 'published_date': '2024-04-10T21:13:16Z', 'sentiment': {'label': 'NEGATIVE', 'score': 0.9992995262145996}, 'keywords': ['donald', 'trump', 'says', 'arizona', \"'\", 's', '1864', 'abortion', 'ban', 'goes', 'too', 'far', '-', 'bbc', '.', 'com'], 'image': 'https://ichef.bbci.co.uk/news/1024/branded_news/1494E/production/_133120348_gettyimages-2147029843.jpg'}, {'title': 'Detroit child with measles exposed others at 3 locations: What to know - Detroit Free Press', 'author': 'Kristen Jordan Shamus', 'description': 'Health officials urge anyone who was at a Detroit urgent care center, drugstore and ER at specific times April 1-3 monitor themselves for symptoms.', 'content': \"A 4-year-old from Detroit has a confirmed case of the measles, and potentially exposed others while seeking treatment for the highly infectious virus at DMC Children's Hospital of Michigan, an urgent… [+8723 chars]\", 'url': 'https://www.freep.com/story/news/health/2024/04/10/measles-case-childrens-hospital-michigan/73277167007/', 'source': 'Detroit Free Press', 'published_date': '2024-04-10T20:48:42Z', 'sentiment': {'label': 'NEGATIVE', 'score': 0.9843946695327759}, 'keywords': ['detroit', 'child', 'with', 'me', '##as', '##les', 'exposed', 'others', 'at', '3', 'locations', ':', 'what', 'to', 'know', '-', 'detroit', 'free', 'press'], 'image': 'https://www.freep.com/gcdn/authoring/2019/04/25/NWKL/ghows-WL-875c732c-99de-123b-e053-0100007f11c9-a1a53fb5.jpeg?crop=2583,1453,x42,y21&width=2583&height=1453&format=pjpg&auto=webp'}, {'title': 'Bird flu found in NYC park — health experts warn to steer clear of wildlife - New York Post ', 'author': \"Natalie O'Neill\", 'description': 'New Yorkers should stay away from wildlife after several cases of bird flu were discovered in a Manhattan park, health experts warned Wednesday.', 'content': 'New Yorkers should stay away from wildlife after several cases of bird flu were discovered in a Manhattan park, health experts warned Wednesday.\\r\\nWild geese, a peregrine falcon and a red-tailed hawk … [+1327 chars]', 'url': 'https://nypost.com/2024/04/10/us-news/bird-flu-found-in-nyc-park-health-experts-warn-to-steer-clear-of-wildlife/', 'source': 'New York Post', 'published_date': '2024-04-10T20:47:00Z', 'sentiment': {'label': 'NEGATIVE', 'score': 0.9907830953598022}, 'keywords': ['bird', 'flu', 'found', 'in', 'nyc', 'park', '—', 'health', 'experts', 'warn', 'to', 'steer', 'clear', 'of', 'wildlife', '-', 'new', 'york', 'post'], 'image': 'https://nypost.com/wp-content/uploads/sites/2/2024/04/miami-beach-florida-veterans-day-79840225.jpg?quality=75&strip=all&w=1024'}, {'title': 'Google Cloud Next 2024: Everything announced so far - TechCrunch', 'author': 'Christine Hall', 'description': \"Don’t have time to be in Las Vegas? That’s OK: We’ve summed up the most important parts of this year's Google Cloud Next.\", 'content': 'Googles Cloud Next 2024 event takes place in Las Vegas through Thursday, and that means lots of new cloud-focused news on everything from Gemini, Googles AI-powered chatbot, to AI to devops and secur… [+8666 chars]', 'url': 'https://techcrunch.com/2024/04/10/google-cloud-next-2024-everything-you-need-to-know/', 'source': 'TechCrunch', 'published_date': '2024-04-10T20:37:16Z', 'sentiment': {'label': 'NEGATIVE', 'score': 0.9668093323707581}, 'keywords': ['google', 'cloud', 'next', '202', '##4', ':', 'everything', 'announced', 'so', 'far', '-', 'tech', '##cr', '##un', '##ch'], 'image': 'https://techcrunch.com/wp-content/uploads/2024/04/Screenshot-2024-04-09-at-11.11.40\\u202fAM.png?resize=1200,674'}, {'title': 'Nobel Prize-winning physicist Peter Higgs dies, aged 94 - DW (English)', 'author': 'Deutsche Welle', 'description': 'The professor who proposed the existence of the so-called \"God particle\" that helped explain how matter formed after the Big Bang, died on Monday following a short illness.', 'content': 'The man who gave rise to the\\xa0\"God particle\" that helped explain how matter formed after the Big Bang, Peter Higgs, has died at age 94, the University of Edinburgh said Tuesday.\\r\\nThe physicist gained … [+2102 chars]', 'url': 'https://www.dw.com/en/nobel-prize-winning-physicist-peter-higgs-dies-aged-94/a-68780280', 'source': 'DW (English)', 'published_date': '2024-04-10T20:02:39Z', 'sentiment': {'label': 'NEGATIVE', 'score': 0.9968366622924805}, 'keywords': ['nobel', 'prize', '-', 'winning', 'physicist', 'peter', 'hi', '##ggs', 'dies', ',', 'aged', '94', '-', 'd', '##w', '(', 'english', ')'], 'image': 'https://static.dw.com/image/68780265_6.jpg'}, {'title': \"Google's AI photo editing tools are expanding to a lot more phones - The Verge\", 'author': 'Allison Johnson', 'description': 'Google’s generative AI Magic Editor and other editing tools like Photo Unblur and Magic Eraser will all soon be available in Google Photos — free of charge.', 'content': 'Googles AI photo editing tools are expanding to a lot more phones\\r\\nGoogles AI photo editing tools are expanding to a lot more phones\\r\\n / Features previously exclusive to Pixels or behind a paywall wi… [+2138 chars]', 'url': 'https://www.theverge.com/2024/4/10/24126357/google-photos-ai-tools-magic-editor-ios-free', 'source': 'The Verge', 'published_date': '2024-04-10T19:08:53Z', 'sentiment': {'label': 'POSITIVE', 'score': 0.9537805914878845}, 'keywords': ['google', \"'\", 's', 'ai', 'photo', 'editing', 'tools', 'are', 'expanding', 'to', 'a', 'lot', 'more', 'phones', '-', 'the', 'verge'], 'image': 'https://cdn.vox-cdn.com/thumbor/QVyZI86wFwvQnghXgMToln2uffw=/0x0:2040x1360/1200x628/filters:focal(1020x680:1021x681)/cdn.vox-cdn.com/uploads/chorus_asset/file/24971366/236823_Pixel_8_8Pro_Watch2_VPavic_0011.jpg'}, {'title': '6 ex-officers who pleaded guilty in ‘Goon Squad’ torture of 2 Black men sentenced in state court - CNN', 'author': 'Emma Tucker, Holly Yan', 'description': 'Six former Mississippi law enforcement officers who tortured two Black men for hours were sentenced in state court Wednesday to 15 to 45 years in prison.', 'content': 'Brandon, MississippiCNN\\r\\n \\xa0—\\xa0\\r\\nSix former Mississippi law enforcement officers who abused two Black men for hours were sentenced in state court Wednesday to 15 to 45 years in prison.\\r\\nTheir sentences… [+7181 chars]', 'url': 'https://www.cnn.com/2024/04/10/us/goon-squad-mississippi-state-sentencing/index.html', 'source': 'CNN', 'published_date': '2024-04-10T19:03:00Z', 'sentiment': {'label': 'NEGATIVE', 'score': 0.9800196886062622}, 'keywords': ['6', 'ex', '-', 'officers', 'who', 'pleaded', 'guilty', 'in', '‘', 'goo', '##n', 'squad', '’', 'torture', 'of', '2', 'black', 'men', 'sentenced', 'in', 'state', 'court', '-', 'cnn'], 'image': 'https://media.cnn.com/api/v1/images/stellar/prod/20240316-mississippi-officers-split.jpg?c=16x9&q=w_800,c_fill'}, {'title': \"Consumer Reports asks USDA to remove Lunchables from schools' lunch menus - NPR\", 'author': 'Ayana Archie', 'description': 'The group found high levels of sodium and the presence of heavy metals in meal kits it tested. A Kraft Heinz spokesperson said all of its products meet strict safety standards.', 'content': 'In this photo illustration, a pack of Lunchables is displayed on Wednesday in San Anselmo, Calif. Consumer Reports is asking for the Department of Agriculture to eliminate Lunchables food kits from t… [+3919 chars]', 'url': 'https://www.npr.org/2024/04/10/1243939166/lunchables-consumer-reports-school-lunch', 'source': 'NPR', 'published_date': '2024-04-10T18:56:36Z', 'sentiment': {'label': 'NEGATIVE', 'score': 0.9987806677818298}, 'keywords': ['consumer', 'reports', 'asks', 'usd', '##a', 'to', 'remove', 'lunch', '##able', '##s', 'from', 'schools', \"'\", 'lunch', 'menu', '##s', '-', 'npr'], 'image': 'https://media.npr.org/assets/img/2024/04/10/gettyimages-2148180982_wide-b9b36bbabafbc88d0d0742e4f5955dbfdc0acd74-s1400-c100.jpg'}, {'title': 'Colombia police arrest 73-year-old American for giving \"cannabis tours\" in his home - CBS News', 'author': 'Cara Tabachnick', 'description': 'An American living in Colombia distributed flyers and advertised on social media for tourists to attend a \"cannabis tour.\"', 'content': 'In a new type of \"travel high,\" an American was arrested on Tuesday by Colombian police for allegedly offering $30 \"cannabis tours\" to tourists in his home.\\xa0\\r\\nThe 73-year-old man advertised on social… [+1691 chars]', 'url': 'https://www.cbsnews.com/news/colombia-police-arrest-american-cannabis-tours/', 'source': 'CBS News', 'published_date': '2024-04-10T18:46:05Z', 'sentiment': {'label': 'NEGATIVE', 'score': 0.9846030473709106}, 'keywords': ['colombia', 'police', 'arrest', '73', '-', 'year', '-', 'old', 'american', 'for', 'giving', '\"', 'cannabis', 'tours', '\"', 'in', 'his', 'home', '-', 'cbs', 'news'], 'image': 'https://assets2.cbsnewsstatic.com/hub/i/r/2024/04/10/31cd2fdb-f1d4-4cbe-b35b-0d84bdb1cfb6/thumbnail/1200x630/46e6266f7380fb4ead5a3f6db804ea55/gettyimages-2133953550.jpg?v=8f9acb0830ce2ef2593f1d92f65cccba'}, {'title': 'Michael Jackson Biopic Dazzles With Surprise First Look at CinemaCon - Hollywood Reporter', 'author': 'Aaron Couch', 'description': 'Producer Graham King revealed the project will include more than 30 songs and be \"long.\"', 'content': 'A surprise look at the Michael Jackson biopic Michael closed out Lionsgate’s panel at CinemaCon Wednesday and gave a jolt to theaters owners, who gave a warm reception.\\r\\nProducer Graham King revealed… [+1799 chars]', 'url': 'http://www.hollywoodreporter.com/movies/movie-news/michael-jackson-biopic-first-look-cinemacon-1235871191/', 'source': 'Hollywood Reporter', 'published_date': '2024-04-10T18:45:00Z', 'sentiment': {'label': 'POSITIVE', 'score': 0.9997206330299377}, 'keywords': ['michael', 'jackson', 'bio', '##pic', 'da', '##zzle', '##s', 'with', 'surprise', 'first', 'look', 'at', 'cinema', '##con', '-', 'hollywood', 'reporter'], 'image': 'https://www.hollywoodreporter.com/wp-content/uploads/2024/02/MICHAEL-FIRST-LOOK-H-2024.jpg?w=1024'}, {'title': 'Dexter Reed shot, killed by Chicago police after traffic stop - The Washington Post', 'author': 'Jennifer Hassan', 'description': 'Newly released body-cam videos show plainclothes Chicago police officers shooting at Dexter Reed, 26. Mayor Brandon Johnson vowed a “transparent” investigation.', 'content': 'Dexter Reeds mother remembers the last time she saw her son alive. Mom, Im going for a ride, he told her, before heading out in the car that he had purchased just three days earlier.\\r\\nReed, 26, was k… [+4569 chars]', 'url': 'https://www.washingtonpost.com/nation/2024/04/10/dexter-reed-shooting-video-chicago-police/', 'source': 'The Washington Post', 'published_date': '2024-04-10T18:38:00Z', 'sentiment': {'label': 'NEGATIVE', 'score': 0.9935740828514099}, 'keywords': ['dexter', 'reed', 'shot', ',', 'killed', 'by', 'chicago', 'police', 'after', 'traffic', 'stop', '-', 'the', 'washington', 'post'], 'image': 'https://www.washingtonpost.com/wp-apps/imrs.php?src=https://arc-anglerfish-washpost-prod-washpost.s3.amazonaws.com/public/V34AC2C3TAILUKG7F2QUWIBET4.jpg&w=1440'}, {'title': \"The Fantasy Baseball Buzz: It's a (Jackson) Holliday holiday! - Yahoo Sports\", 'author': 'Scott Pianowski', 'description': 'The news many fantasy baseball managers and MLB fans alike have been waiting for is here: the No. 1 prospect in baseball is coming to The Show. Scott...', 'content': \"Welcome to the Show (and fantasy baseball), Jackson Holliday. (Photo by George Kubas/Diamond Images via Getty Images)\\r\\nA tidy internet search will tell you that April 10 is National Siblings Day. It'… [+5418 chars]\", 'url': 'https://sports.yahoo.com/the-fantasy-baseball-buzz-its-a-jackson-holliday-holiday-162449416.html', 'source': 'Yahoo Entertainment', 'published_date': '2024-04-10T18:24:25Z', 'sentiment': {'label': 'POSITIVE', 'score': 0.9899975657463074}, 'keywords': ['the', 'fantasy', 'baseball', 'buzz', ':', 'it', \"'\", 's', 'a', '(', 'jackson', ')', 'ho', '##lli', '##day', 'holiday', '!', '-', 'yahoo', 'sports'], 'image': 'https://s.yimg.com/ny/api/res/1.2/ibasn68OVnEUYU_meV9w4Q--/YXBwaWQ9aGlnaGxhbmRlcjt3PTEyMDA7aD04MDA-/https://s.yimg.com/os/creatr-uploaded-images/2024-03/dcb57380-e544-11ee-9fbf-5de9797d7eec'}, {'title': 'House sinks Johnson-backed FISA renewal after Trump push - Fox News', 'author': 'Elizabeth Elkind', 'description': 'Congress is grappling with a way forward on renewing Section 702 of the Foreign Intelligence Surveillance Act (FISA), which expires April 19.', 'content': 'More than a dozen House GOP privacy hawks have blocked the House of Representatives from advancing a Speaker Mike Johnson-backed bill to renew a controversial federal government surveillance tool kno… [+3432 chars]', 'url': 'https://www.foxnews.com/politics/house-sinks-johnson-backed-fisa-renewal-trump-push', 'source': 'Fox News', 'published_date': '2024-04-10T18:18:00Z', 'sentiment': {'label': 'NEGATIVE', 'score': 0.9749656319618225}, 'keywords': ['house', 'sinks', 'johnson', '-', 'backed', 'fis', '##a', 'renewal', 'after', 'trump', 'push', '-', 'fox', 'news'], 'image': 'https://static.foxnews.com/foxnews.com/content/uploads/2024/02/Trump-Johnson-Photo-1.jpg'}, {'title': 'Israeli forces kill three children of Hamas leader Ismail Haniyeh in Gaza - Al Jazeera English', 'author': 'Al Jazeera Staff', 'description': 'Haniyeh decries Israeli attack, says killings will not deter Palestinian leaders or force them to back down.', 'content': 'An Israeli attack in northern Gaza has killed three sons of Hamas chief Ismail Haniyeh as Israel continues its bombardment of the besieged enclave on the Muslim holiday of Eid al-Fitr.\\r\\nIn an intervi… [+5196 chars]', 'url': 'https://www.aljazeera.com/news/2024/4/10/israeli-forces-kill-three-children-of-hamas-leader-ismail-haniyeh-in-gaza', 'source': 'Al Jazeera English', 'published_date': '2024-04-10T18:02:10Z', 'sentiment': {'label': 'NEGATIVE', 'score': 0.9972289204597473}, 'keywords': ['israeli', 'forces', 'kill', 'three', 'children', 'of', 'hamas', 'leader', 'ismail', 'han', '##iy', '##eh', 'in', 'gaza', '-', 'al', 'ja', '##zee', '##ra', 'english'], 'image': 'https://www.aljazeera.com/wp-content/uploads/2024/04/s2-1712765052.jpg?resize=1920%2C1293'}, {'title': \"Dakota Fanning & Andrew Scott Quiz Each Other on Their Careers | All About Me | Harper's BAZAAR - Harper's BAZAAR\", 'author': None, 'description': \"Dakota Fanning and Andrew Scott may have spent time together in Italy filming their new limited Netflix series 'Ripley,' but how well do they know each other...\", 'content': None, 'url': 'https://www.youtube.com/watch?v=8rRzGc_JG1o', 'source': 'YouTube', 'published_date': '2024-04-10T18:00:04Z', 'sentiment': {'label': 'POSITIVE', 'score': 0.9945074915885925}, 'keywords': ['dakota', 'fan', '##ning', '&', 'andrew', 'scott', 'quiz', 'each', 'other', 'on', 'their', 'careers', '|', 'all', 'about', 'me', '|', 'harper', \"'\", 's', 'bazaar', '-', 'harper', \"'\", 's', 'bazaar'], 'image': 'https://i.ytimg.com/vi/8rRzGc_JG1o/maxresdefault.jpg'}]\n"
     ]
    },
    {
     "ename": "TypeError",
     "evalue": "DisplayArticleInfo() missing 9 required positional arguments: 'content', 'sentiments', 'keywords', 'descriptions', 'urls', 'sources', 'published_dates', 'authors', and 'images'",
     "output_type": "error",
     "traceback": [
      "\u001b[1;31m---------------------------------------------------------------------------\u001b[0m",
      "\u001b[1;31mTypeError\u001b[0m                                 Traceback (most recent call last)",
      "Cell \u001b[1;32mIn[54], line 59\u001b[0m\n\u001b[0;32m     56\u001b[0m \u001b[38;5;28mprint\u001b[39m(articles)\n\u001b[0;32m     58\u001b[0m \u001b[38;5;66;03m#Pass Article Dictionary to DisplayArticlesUtils\u001b[39;00m\n\u001b[1;32m---> 59\u001b[0m \u001b[43mDAU\u001b[49m\u001b[38;5;241;43m.\u001b[39;49m\u001b[43mDisplayArticleInfo\u001b[49m\u001b[43m(\u001b[49m\u001b[43marticles\u001b[49m\u001b[43m)\u001b[49m\n",
      "\u001b[1;31mTypeError\u001b[0m: DisplayArticleInfo() missing 9 required positional arguments: 'content', 'sentiments', 'keywords', 'descriptions', 'urls', 'sources', 'published_dates', 'authors', and 'images'"
     ]
    }
   ],
   "source": [
    "\n",
    "#Get News Headlines\n",
    "top_headlines = AIU.get_top_headlines(country='us', language='en')\n",
    "\n",
    "#Get News Articles\n",
    "articles = top_headlines['articles']\n",
    "\n",
    "#Get Article Titles\n",
    "titles = [article['title'] for article in articles]\n",
    "\n",
    "#Get Article Descriptions\n",
    "descriptions = [article['description'] for article in articles]\n",
    "\n",
    "#Get Article URLs\n",
    "urls = [article['url'] for article in articles]\n",
    "\n",
    "#Get Article Content\n",
    "content = [article['content'] for article in articles]\n",
    "\n",
    "#Get Article Sources\n",
    "sources = [article['source']['name'] for article in articles]\n",
    "\n",
    "#Get Article Published Dates\n",
    "published_dates = [article['publishedAt'] for article in articles]\n",
    "\n",
    "#Get Article Authors\n",
    "authors = [article['author'] for article in articles]\n",
    "\n",
    "#Get Article Images\n",
    "images = [article['urlToImage'] for article in articles]\n",
    "\n",
    "#Get Article Sentiments\n",
    "nlp = pipeline('sentiment-analysis')\n",
    "sentiments = [nlp(article['title'])[0] for article in articles]\n",
    "\n",
    "\n",
    "#Get Article Keywords\n",
    "tokenizer = AutoTokenizer.from_pretrained(\"bert-base-uncased\")\n",
    "keywords = [tokenizer.tokenize(article['title']) for article in articles]\n",
    "\n",
    "#Combine Article Info into a dictionary\n",
    "for i in range(len(articles)):\n",
    "    articles[i] = {\n",
    "        'title': titles[i],\n",
    "        'author': authors[i],\n",
    "        'description': descriptions[i],\n",
    "        'content': content[i],\n",
    "        'url': urls[i],\n",
    "        'source': sources[i],\n",
    "        'published_date': published_dates[i],\n",
    "        'sentiment': sentiments[i],\n",
    "        'keywords': keywords[i],\n",
    "        'image': images[i],\n",
    "    }\n",
    "\n",
    "\n",
    "print(articles)\n",
    "\n",
    "#Pass Article Dictionary to DisplayArticlesUtils\n",
    "DAU.DisplayArticleInfo(articles)"
   ]
  },
  {
   "cell_type": "code",
   "execution_count": null,
   "metadata": {},
   "outputs": [],
   "source": []
  }
 ],
 "metadata": {
  "kernelspec": {
   "display_name": "dev",
   "language": "python",
   "name": "python3"
  },
  "language_info": {
   "codemirror_mode": {
    "name": "ipython",
    "version": 3
   },
   "file_extension": ".py",
   "mimetype": "text/x-python",
   "name": "python",
   "nbconvert_exporter": "python",
   "pygments_lexer": "ipython3",
   "version": "3.10.13"
  }
 },
 "nbformat": 4,
 "nbformat_minor": 2
}

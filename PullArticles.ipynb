{
 "cells": [
  {
   "cell_type": "code",
   "execution_count": 1,
   "metadata": {},
   "outputs": [],
   "source": [
    "#Import needed modules\n",
    "import os\n",
    "import sys\n",
    "import requests\n",
    "\n",
    "import ArticleImportUtils as AIU\n",
    "import DisplayArticlesUtilities as DAU\n",
    "import ArticleTranslationUtility as ATU\n",
    "\n",
    "\n",
    "from transformers import AutoTokenizer, TFAutoModelForSeq2SeqLM, MBartForConditionalGeneration, MBart50TokenizerFast\n",
    "from dotenv import load_dotenv\n",
    "from newsapi import NewsApiClient\n",
    "\n"
   ]
  },
  {
   "cell_type": "code",
   "execution_count": 2,
   "metadata": {},
   "outputs": [],
   "source": [
    "#Create variables to hold country and language codes\n",
    "countryCode = \"init\"\n",
    "languageCode = \"init\"\n",
    "\n",
    "#Create a list of the available country codes that include ae,ar,at,au,be,bg,br,ca,ch,cn,co,cu,cz,de,eg,fr,gb,gr,hk,hu,id,ie,il,in,it,jp,kr,lt,lv,ma,mx,my,ng,nl,no,nz,ph,pl,pt,ro,rs,ru,sa,se,sg,si,sk,th,tr,tw,ua,us,ve,za\n",
    "validCountryCodes = [\"ae\",\"ar\",\"at\",\"au\",\"be\",\"bg\",\"br\",\"ca\",\"ch\",\"cn\",\"co\",\"cu\",\"cz\",\"de\",\"eg\",\"fr\",\"gb\",\"gr\",\"hk\",\"hu\",\"id\",\"ie\",\"il\",\"in\",\"it\",\"jp\",\"kr\",\"lt\",\"lv\",\"ma\",\"mx\",\"my\",\"ng\",\"nl\",\"no\",\"nz\",\"ph\",\"pl\",\"pt\",\"ro\",\"rs\",\"ru\",\"sa\",\"se\",\"sg\",\"si\",\"sk\",\"th\",\"tr\",\"tw\",\"ua\",\"us\",\"ve\",\"za\",\"None\",\"\"]\n",
    "\n",
    "#Create a list of the available language codes that include ar,de,en,es,fr,he,it,nl,no,pt,ru,se,ud,zh\n",
    "validLanguageCodes = [\"ar\",\"de\",\"en\",\"es\",\"fr\",\"he\",\"it\",\"nl\",\"no\",\"pt\",\"ru\",\"se\",\"ud\",\"zh\",\"None\",\"\"]\n"
   ]
  },
  {
   "cell_type": "code",
   "execution_count": 3,
   "metadata": {},
   "outputs": [],
   "source": [
    "#Get the number of articles available for each country and language\n",
    "#numberOfArticles = {}\n",
    "\n",
    "#numberOfArticles = AIU.getNumberOfArticles(validCountryCodes, validLanguageCodes)\n",
    "\n",
    "#print(\"Number of articles available for each country and language: \")\n",
    "#print(numberOfArticles)\n"
   ]
  },
  {
   "cell_type": "code",
   "execution_count": 4,
   "metadata": {},
   "outputs": [],
   "source": [
    "#Ask the user to input the country code if not valid ask again\n",
    "while countryCode not in validCountryCodes:\n",
    "    countryCode = input(\"Please enter the country code you would like to search for articles in: \")\n",
    "    if countryCode != \"None\":\n",
    "        countryCode = countryCode.lower()\n",
    "\n",
    "#Ask the user to input the language code if not valid ask again\n",
    "while languageCode not in validLanguageCodes:\n",
    "    languageCode = input(\"Please enter the language code you would like to search for articles in: \")\n",
    "    if languageCode != \"None\":\n",
    "        languageCode = languageCode.lower()\n",
    "\n",
    "\n",
    "#Enter the search term you would like to search for\n",
    "searchTerm = input(\"Please enter the search term you would like to search for: \").lower()"
   ]
  },
  {
   "cell_type": "code",
   "execution_count": 5,
   "metadata": {},
   "outputs": [],
   "source": [
    "#test_headlines = AIU.get_top_headlines('us', 'en', 'AI')\n",
    "\n",
    "# test_headlines = AIU.get_article_data(countryCode, languageCode, searchTerm)\n",
    "\n",
    "# print(test_headlines)\n",
    "\n",
    "# articles = DAU.CreateArticleList(test_headlines)\n",
    "\n",
    "# print(articles)\n"
   ]
  },
  {
   "cell_type": "code",
   "execution_count": 6,
   "metadata": {},
   "outputs": [
    {
     "name": "stdout",
     "output_type": "stream",
     "text": [
      "Country Code: \n",
      "Language Code: \n",
      "Search Term: \n",
      "{}\n",
      "Error: 400\n"
     ]
    },
    {
     "ename": "TypeError",
     "evalue": "string indices must be integers",
     "output_type": "error",
     "traceback": [
      "\u001b[1;31m---------------------------------------------------------------------------\u001b[0m",
      "\u001b[1;31mTypeError\u001b[0m                                 Traceback (most recent call last)",
      "Cell \u001b[1;32mIn[6], line 19\u001b[0m\n\u001b[0;32m     15\u001b[0m         top_headlines \u001b[38;5;241m=\u001b[39m AIU\u001b[38;5;241m.\u001b[39mget_article_data(query \u001b[38;5;241m=\u001b[39m searchTerm, country \u001b[38;5;241m=\u001b[39m countryCode, language \u001b[38;5;241m=\u001b[39m languageCode)\n\u001b[0;32m     17\u001b[0m \u001b[38;5;28mprint\u001b[39m(top_headlines)\n\u001b[1;32m---> 19\u001b[0m articles \u001b[38;5;241m=\u001b[39m \u001b[43mDAU\u001b[49m\u001b[38;5;241;43m.\u001b[39;49m\u001b[43mCreateArticleList\u001b[49m\u001b[43m(\u001b[49m\u001b[43mtop_headlines\u001b[49m\u001b[43m)\u001b[49m\n\u001b[0;32m     21\u001b[0m \u001b[38;5;66;03m#Check if the article content is empty and if it is then look for the content in the article url\u001b[39;00m\n\u001b[0;32m     25\u001b[0m \u001b[38;5;28mprint\u001b[39m(articles)\n",
      "File \u001b[1;32mc:\\Git\\Project-3\\DisplayArticlesUtilities.py:34\u001b[0m, in \u001b[0;36mCreateArticleList\u001b[1;34m(top_headlines)\u001b[0m\n\u001b[0;32m     32\u001b[0m \u001b[38;5;28;01mdef\u001b[39;00m \u001b[38;5;21mCreateArticleList\u001b[39m(top_headlines):\n\u001b[0;32m     33\u001b[0m     \u001b[38;5;66;03m#Get News Articles\u001b[39;00m\n\u001b[1;32m---> 34\u001b[0m     articles \u001b[38;5;241m=\u001b[39m \u001b[43mtop_headlines\u001b[49m\u001b[43m[\u001b[49m\u001b[38;5;124;43m'\u001b[39;49m\u001b[38;5;124;43mnews\u001b[39;49m\u001b[38;5;124;43m'\u001b[39;49m\u001b[43m]\u001b[49m\n\u001b[0;32m     37\u001b[0m     \u001b[38;5;66;03m#Get Article Titles\u001b[39;00m\n\u001b[0;32m     38\u001b[0m     titles \u001b[38;5;241m=\u001b[39m [article[\u001b[38;5;124m'\u001b[39m\u001b[38;5;124mtitle\u001b[39m\u001b[38;5;124m'\u001b[39m] \u001b[38;5;28;01mfor\u001b[39;00m article \u001b[38;5;129;01min\u001b[39;00m articles]\n",
      "\u001b[1;31mTypeError\u001b[0m: string indices must be integers"
     ]
    }
   ],
   "source": [
    "print(\"Country Code: \" + countryCode)\n",
    "print(\"Language Code: \" + languageCode)\n",
    "print(\"Search Term: \" + searchTerm)\n",
    "\n",
    "\n",
    "\n",
    "#Get the top headlines for the country and language code and search term\n",
    "if (countryCode == \"None\" or countryCode == \"\") and (languageCode == \"None\" or languageCode == \"\"):\n",
    "        top_headlines = AIU.get_article_data(query = searchTerm)\n",
    "elif countryCode == \"None\" or countryCode == \"\":\n",
    "        top_headlines = AIU.get_article_data(query = searchTerm, language = languageCode)\n",
    "elif languageCode == \"None\" or languageCode == \"\":\n",
    "        top_headlines = AIU.get_article_data(query = searchTerm, country = countryCode)\n",
    "else:\n",
    "        top_headlines = AIU.get_article_data(query = searchTerm, country = countryCode, language = languageCode)\n",
    "\n",
    "print(top_headlines)\n",
    "\n",
    "articles = DAU.CreateArticleList(top_headlines)\n",
    "\n",
    "#Check if the article content is empty and if it is then look for the content in the article url\n",
    "\n",
    "\n",
    "\n",
    "print(articles)\n",
    "\n",
    "\n",
    "#Pass Article Dictionary to DisplayArticlesUtils\n",
    "print(\"\\n\\n\\n\\n\\n\" + \"Article List:\" + \"\\n\")\n",
    "DAU.DisplayArticleInfo(articles)"
   ]
  },
  {
   "cell_type": "code",
   "execution_count": null,
   "metadata": {},
   "outputs": [
    {
     "name": "stdout",
     "output_type": "stream",
     "text": [
      "Translating Article...\n",
      "Detected Language: de\n",
      "Translating article to English...\n",
      "Translated Article:\n",
      "\n",
      "\n",
      "Translated Title: Sanctions against Putin: Time for Germany to Implement an Oil Embargo - DER SPIEGEL\n",
      "\n",
      "  Author: ['Bernhard Zand']\n",
      "\n",
      "  Content: Indeed, it wouldn’t be enough to simply put on a thick sweater at home. According to a recent survey, support for such a boycott is currently high, but should Germany be hit by a massive recession with rising unemployment, the mood could easily shift. Which would make play into Putin’s hands. Just how Germany’s politicians managed to make Germany so dependent on energy imports from Russia – from Gerhard Schröder to Angela Merkel – will have to be addressed at some point in the future. For the time being, though, it is clear that it will take years to extract Germany from this Russian embrace. Yet if Putin is to be stopped, immediate action is necessary. The war could very well become more brutal in the coming days and weeks. There are indications that Russia is now applying the strategy it pursued in Syria to Ukraine, including merciless bombardments of civilian residential\n",
      "\n",
      "  URL: https://www.spiegel.de/international/germany/sanctions-against-putin-time-for-germany-to-implement-an-oil-embargo-a-c14fd1b6-0412-4231-ae36-7afa81d3dd86#ref=rss\n",
      "\n",
      "  Published Date: 2022-03-11 17:58:40\n",
      "\n",
      "  Image: https://cdn.prod.www.spiegel.de/images/4d5c7375-598c-4280-8128-7ce970a97ac3_w1280_r1.77_fpx47_fpy51.jpg\n",
      "\n",
      "  Sentiment: {'label': 'NEGATIVE', 'score': 0.9903374910354614}\n",
      "\n",
      "  Keywords: ['indeed', ',', 'it', 'wouldn', '’', 't', 'be', 'enough', 'to', 'simply', 'put', 'on', 'a', 'thick', 'sweater', 'at', 'home', '.', 'according', 'to', 'a', 'recent', 'survey', ',', 'support', 'for', 'such', 'a', 'boycott', 'is', 'currently', 'high', ',', 'but', 'should', 'germany', 'be', 'hit', 'by', 'a', 'massive', 'recession', 'with', 'rising', 'unemployment', ',', 'the', 'mood', 'could', 'easily', 'shift', '.', 'which', 'would', 'make', 'play', 'into', 'putin', '’', 's', 'hands', '.', 'just', 'how', 'germany', '’', 's', 'politicians', 'managed', 'to', 'make', 'germany', 'so', 'dependent', 'on', 'energy', 'imports', 'from', 'russia', '–', 'from', 'gerhard', 'sc', '##hr', '##oder', 'to', 'angela', 'mer', '##kel', '–', 'will', 'have', 'to', 'be', 'addressed', 'at', 'some', 'point', 'in', 'the', 'future', '.', 'for', 'the', 'time', 'being', ',', 'though', ',', 'it', 'is', 'clear', 'that', 'it', 'will', 'take', 'years', 'to', 'extract', 'germany', 'from', 'this', 'russian', 'embrace', '.', 'yet', 'if', 'putin', 'is', 'to', 'be', 'stopped', ',', 'immediate', 'action', 'is', 'necessary', '.', 'the', 'war', 'could', 'very', 'well', 'become', 'more', 'brutal', 'in', 'the', 'coming', 'days', 'and', 'weeks', '.', 'there', 'are', 'indications', 'that', 'russia', 'is', 'now', 'applying', 'the', 'strategy', 'it', 'pursued', 'in', 'syria', 'to', 'ukraine', ',', 'including', 'mer', '##ci', '##less', 'bombardment', '##s', 'of', 'civilian', 'residential', 'areas', 'and', 'hospitals', '.', 'the', 'attack', 'on', 'a', 'maternity', 'hospital', 'in', 'mari', '##up', '##ol', 'shows', 'just', 'how', 'bar', '##bar', '##ous', 'putin', 'can', 'be', '.']\n",
      "\n",
      "\n",
      "\n"
     ]
    }
   ],
   "source": [
    "translated_article = \"\"\n",
    "\n",
    "#If no articles were returned, exit the program\n",
    "if len(articles) == 0:\n",
    "    print(\"No articles were returned for the selected country (\" + countryCode + \") and language (\" + languageCode + \").\" )\n",
    "else:\n",
    "    #Select the article you would like to translate\n",
    "    articleNumber = ATU.SelectArticleToTranslate(articles)\n",
    "    \n",
    "    translated_article = ATU.TranslateArticle(articles, languageCode, articleNumber)\n",
    "\n",
    "    DAU.DisplayTranslatedArticle(translated_article)\n",
    "    #print(translated_article)"
   ]
  }
 ],
 "metadata": {
  "kernelspec": {
   "display_name": "dev",
   "language": "python",
   "name": "python3"
  },
  "language_info": {
   "codemirror_mode": {
    "name": "ipython",
    "version": 3
   },
   "file_extension": ".py",
   "mimetype": "text/x-python",
   "name": "python",
   "nbconvert_exporter": "python",
   "pygments_lexer": "ipython3",
   "version": "3.10.13"
  }
 },
 "nbformat": 4,
 "nbformat_minor": 2
}

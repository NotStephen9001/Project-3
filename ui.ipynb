{
 "cells": [
  {
   "cell_type": "code",
   "execution_count": 1,
   "metadata": {},
   "outputs": [],
   "source": [
    "import gradio as gr"
   ]
  },
  {
   "cell_type": "code",
   "execution_count": 23,
   "metadata": {},
   "outputs": [],
   "source": [
    "def search_articles(keyword, countries, language) :\n",
    "    return language"
   ]
  },
  {
   "cell_type": "code",
   "execution_count": 35,
   "metadata": {},
   "outputs": [],
   "source": [
    "country_choice  = [\n",
    "    #  \"ae\"\n",
    "    #,\n",
    "      (\"Argentina\"      , \"ar\")\n",
    "    #, \"at\"\n",
    "    , (\"Australia\"      , \"au\")\n",
    "    #, \"be\"\n",
    "    #, \"bg\"\n",
    "    , (\"Brazil\"         , \"br\")\n",
    "    , (\"Canada\"         , \"ca\")\n",
    "    , (\"China\"          , \"zh\")\n",
    "    #, \"ch\"\n",
    "    #, \"cn\"\n",
    "    #, \"co\"\n",
    "    #, \"cu\"\n",
    "    #, \"cz\"\n",
    "    #, \"eg\"\n",
    "    , (\"France\"         , \"fr\")\n",
    "    , (\"Germany\"        , \"de\")\n",
    "    #, \"gr\"\n",
    "    #, \"hk\"\n",
    "    #, \"hu\"\n",
    "    #, \"id\"\n",
    "    #, \"il\"\n",
    "    , (\"India\"          , \"in\")\n",
    "    , (\"Ireland\"        , \"ie\")\n",
    "    , (\"Israel\"         , \"is\")\n",
    "    , (\"Italy\"          , \"it\")\n",
    "    #, (\"Japan\"          , \"jp\")\n",
    "    #, \"kr\"\n",
    "    #, \"lt\"\n",
    "    #, \"lv\"\n",
    "    #, \"ma\"\n",
    "    #, (\"Mexico\"         , \"mx\")\n",
    "    #, \"my\"\n",
    "    #, \"ng\"\n",
    "    , (\"Netherlands\"    , \"nl\")\n",
    "    , (\"Norway\"         , \"no\")\n",
    "    #, \"nz\"\n",
    "    #, \"ph\"\n",
    "    , (\"Pakistan\"       , \"pk\")\n",
    "    #, \"pl\"\n",
    "    #, \"pt\"\n",
    "    #, \"ro\"\n",
    "    #, \"rs\"\n",
    "    , (\"Russia\"         , \"ru\")\n",
    "    , (\"Saudi Arabia\"   , \"sa\")\n",
    "    , (\"South Africa\"   , \"za\")\n",
    "    , (\"Sweden\"         , \"se\")\n",
    "    #, \"sg\"\n",
    "    #, \"si\"\n",
    "    #, \"sk\"\n",
    "    #, \"th\"\n",
    "    #, \"tr\"\n",
    "    #, \"tw\"\n",
    "    #, \"ua\"\n",
    "    , (\"United Kingdom\" , \"gb\")\n",
    "    , (\"United States\"  , \"us\")\n",
    "    #, \"ve\"\n",
    "\n",
    "]\n",
    "\n",
    "language_choice = [\n",
    "      (\"Arabic\"     , \"ar\")\n",
    "    , (\"Chinese\"    , \"zh\")\n",
    "    , (\"Dutch\"      , \"nl\")\n",
    "    , (\"English\"    , \"en\")\n",
    "    , (\"French\"     , \"fr\")\n",
    "    , (\"German\"     , \"de\")\n",
    "    , (\"Hebrew\"     , \"he\")\n",
    "    , (\"Italian\"    , \"it\")\n",
    "    , (\"Norwegian\"  , \"no\")\n",
    "    , (\"Portugese\"  , \"pt\")\n",
    "    , (\"Russian\"    , \"ru\")\n",
    "    , (\"Spanish\"    , \"es\")\n",
    "    , (\"Swedish\"    , \"sv\")\n",
    "    , (\"Urdu\"       , \"ud\")\n",
    "  ]\n",
    "\n",
    "#pt = Portugese\n",
    "#sv = Swedish"
   ]
  },
  {
   "cell_type": "code",
   "execution_count": 40,
   "metadata": {},
   "outputs": [
    {
     "name": "stdout",
     "output_type": "stream",
     "text": [
      "Running on local URL:  http://127.0.0.1:7881\n",
      "\n",
      "To create a public link, set `share=True` in `launch()`.\n"
     ]
    },
    {
     "data": {
      "text/html": [
       "<div><iframe src=\"http://127.0.0.1:7881/\" width=\"100%\" height=\"500\" allow=\"autoplay; camera; microphone; clipboard-read; clipboard-write;\" frameborder=\"0\" allowfullscreen></iframe></div>"
      ],
      "text/plain": [
       "<IPython.core.display.HTML object>"
      ]
     },
     "metadata": {},
     "output_type": "display_data"
    },
    {
     "data": {
      "text/plain": []
     },
     "execution_count": 40,
     "metadata": {},
     "output_type": "execute_result"
    }
   ],
   "source": [
    "\n",
    "categories = [\"business\", \"entertainment\", \"general\", \"health\", \"science\", \"sports\", \"technology\"]\n",
    "\n",
    "text_keyword    = gr.Textbox(\n",
    "    label       = \"Search Term\"\n",
    "  , placeholder = \"Enter your search term here\"\n",
    ")\n",
    "text_source     = gr.CheckboxGroup(\n",
    "    choices     = country_choice\n",
    "  , label       = \"Source Country (Leave unchecked for all countries)\"\n",
    ")\n",
    "text_language   = gr.Dropdown(\n",
    "    choices     = language_choice\n",
    "  , value       = \"en\"\n",
    "  , label       = \"Language\"\n",
    ")\n",
    "text_results    = gr.TextArea(label=\"Results\")\n",
    "\n",
    "app = gr.Interface(\n",
    "      fn        = search_articles\n",
    "    , inputs    = [text_keyword, text_source, text_language]\n",
    "    , outputs   = text_results\n",
    ")\n",
    "app.launch(show_error=True, )"
   ]
  },
  {
   "cell_type": "code",
   "execution_count": 38,
   "metadata": {},
   "outputs": [
    {
     "name": "stdout",
     "output_type": "stream",
     "text": [
      "Running on local URL:  http://127.0.0.1:7879\n",
      "\n",
      "To create a public link, set `share=True` in `launch()`.\n"
     ]
    },
    {
     "data": {
      "text/html": [
       "<div><iframe src=\"http://127.0.0.1:7879/\" width=\"100%\" height=\"500\" allow=\"autoplay; camera; microphone; clipboard-read; clipboard-write;\" frameborder=\"0\" allowfullscreen></iframe></div>"
      ],
      "text/plain": [
       "<IPython.core.display.HTML object>"
      ]
     },
     "metadata": {},
     "output_type": "display_data"
    }
   ],
   "source": [
    "with gr.Blocks() as demo:\n",
    "    food_box = gr.Number(value=10, label=\"Food Count\")\n",
    "    status_box = gr.Textbox()\n",
    "    def eat(food):\n",
    "        if food > 0:\n",
    "            return food - 1, \"full\"\n",
    "        else:\n",
    "            return 0, \"hungry\"\n",
    "    gr.Button(\"EAT\").click(\n",
    "        fn=eat,\n",
    "        inputs=food_box,\n",
    "        outputs=[food_box, status_box]\n",
    "    )\n",
    "\n",
    "    demo.launch()"
   ]
  }
 ],
 "metadata": {
  "kernelspec": {
   "display_name": "AI",
   "language": "python",
   "name": "python3"
  },
  "language_info": {
   "codemirror_mode": {
    "name": "ipython",
    "version": 3
   },
   "file_extension": ".py",
   "mimetype": "text/x-python",
   "name": "python",
   "nbconvert_exporter": "python",
   "pygments_lexer": "ipython3",
   "version": "3.11.7"
  }
 },
 "nbformat": 4,
 "nbformat_minor": 2
}
